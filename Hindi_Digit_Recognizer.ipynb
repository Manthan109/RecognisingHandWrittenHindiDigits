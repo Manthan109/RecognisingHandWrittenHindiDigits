{
  "nbformat": 4,
  "nbformat_minor": 0,
  "metadata": {
    "colab": {
      "name": "Hindi_Digit_Recognizer.ipynb",
      "provenance": []
    },
    "kernelspec": {
      "name": "python3",
      "display_name": "Python 3"
    }
  },
  "cells": [
    {
      "cell_type": "code",
      "metadata": {
        "id": "b9UmU2qeuNmT",
        "colab_type": "code",
        "colab": {}
      },
      "source": [
        "import os\n",
        "import numpy as np\n",
        "import keras\n",
        "from keras.models import Sequential\n",
        "from keras.layers import Activation, Dropout, Flatten, Dense\n",
        "from keras.preprocessing.image import ImageDataGenerator\n",
        "from keras.layers import Convolution2D, MaxPooling2D, ZeroPadding2D,BatchNormalization\n",
        "from keras import optimizers\n",
        "from keras import backend as k\n",
        "import matplotlib.pyplot as plt\n",
        "from matplotlib.pyplot import imshow\n",
        "from matplotlib.image import imread"
      ],
      "execution_count": 8,
      "outputs": []
    },
    {
      "cell_type": "code",
      "metadata": {
        "id": "FQZiAf6a7m0G",
        "colab_type": "code",
        "colab": {
          "base_uri": "https://localhost:8080/",
          "height": 34
        },
        "outputId": "efc88aa6-5e0b-47b6-e609-85824300c1a4"
      },
      "source": [
        "from google.colab import drive\n",
        "drive.mount(\"/content/drive\")"
      ],
      "execution_count": 33,
      "outputs": [
        {
          "output_type": "stream",
          "text": [
            "Drive already mounted at /content/drive; to attempt to forcibly remount, call drive.mount(\"/content/drive\", force_remount=True).\n"
          ],
          "name": "stdout"
        }
      ]
    },
    {
      "cell_type": "code",
      "metadata": {
        "id": "jAOWy8PRx4qc",
        "colab_type": "code",
        "colab": {
          "base_uri": "https://localhost:8080/",
          "height": 34
        },
        "outputId": "a61b3fd2-45bd-4eeb-8126-8ba1fadf3259"
      },
      "source": [
        "\n",
        "trainDataGen=ImageDataGenerator(rotation_range = 5,\n",
        "\t\twidth_shift_range = 0.1,\n",
        "\t\theight_shift_range = 0.1,\n",
        "\t\trescale = 1.0/255,\n",
        "\t\tshear_range = 0.2,\n",
        "\t\tzoom_range = 0.2,\t\t\n",
        "\t\thorizontal_flip = False,\n",
        "\t\tfill_mode = 'nearest')\n",
        "\n",
        "test_datagen = ImageDataGenerator(rescale=1./255)\n",
        "\n",
        "trainGenerator = trainDataGen.flow_from_directory(\n",
        "\t\t\t\"/content/drive/My Drive/DevanagariHandwrittenCharacterDataset/Train\",\n",
        "\t\t\ttarget_size = (32,32),\n",
        "\t\t\tbatch_size = 32,\n",
        "\t\t\tcolor_mode = \"grayscale\",\n",
        "\t\t\tclass_mode = \"categorical\")"
      ],
      "execution_count": 34,
      "outputs": [
        {
          "output_type": "stream",
          "text": [
            "Found 500 images belonging to 10 classes.\n"
          ],
          "name": "stdout"
        }
      ]
    },
    {
      "cell_type": "code",
      "metadata": {
        "id": "9vRu57DD8MQm",
        "colab_type": "code",
        "colab": {}
      },
      "source": [
        "labels=['0','1','2','3','4','5','6','7','8','9']"
      ],
      "execution_count": 35,
      "outputs": []
    },
    {
      "cell_type": "code",
      "metadata": {
        "id": "Jp6VD-Tf8hhy",
        "colab_type": "code",
        "colab": {
          "base_uri": "https://localhost:8080/",
          "height": 34
        },
        "outputId": "2de44102-8ea3-4fc4-ecd1-b6a6593e4761"
      },
      "source": [
        "validation_generator = test_datagen.flow_from_directory(\n",
        "\t\t\t\"/content/drive/My Drive/DevanagariHandwrittenCharacterDataset/Test\",\n",
        "\t\t\ttarget_size=(32,32),\n",
        "\t\t\tbatch_size=32,\n",
        "\t\t\tcolor_mode = \"grayscale\",\n",
        "\t\t\tclass_mode= 'categorical')"
      ],
      "execution_count": 36,
      "outputs": [
        {
          "output_type": "stream",
          "text": [
            "Found 120 images belonging to 10 classes.\n"
          ],
          "name": "stdout"
        }
      ]
    },
    {
      "cell_type": "code",
      "metadata": {
        "id": "3XvyWPJH-Rm3",
        "colab_type": "code",
        "colab": {}
      },
      "source": [
        "model1=Sequential()\n",
        "#Single Dense Layer with 32 nodes in it\n",
        "\n",
        "model1.add(Dense(32,activation='relu',input_shape=(32,32,1)))\n",
        "\n",
        "#Output Layer\n",
        "model1.add(Flatten())\n",
        "model1.add(Dense(10,activation='softmax'))"
      ],
      "execution_count": 37,
      "outputs": []
    },
    {
      "cell_type": "code",
      "metadata": {
        "id": "BzBSbaUZARAc",
        "colab_type": "code",
        "colab": {
          "base_uri": "https://localhost:8080/",
          "height": 269
        },
        "outputId": "1b25611a-b215-4879-efe4-5f86620a05f6"
      },
      "source": [
        "model1.compile(optimizer = \"adam\",\n",
        "\t\tloss = \"categorical_crossentropy\",\n",
        "\t\tmetrics = [\"accuracy\"])\n",
        "\t\t\n",
        "print(model1.summary())"
      ],
      "execution_count": 38,
      "outputs": [
        {
          "output_type": "stream",
          "text": [
            "Model: \"sequential_9\"\n",
            "_________________________________________________________________\n",
            "Layer (type)                 Output Shape              Param #   \n",
            "=================================================================\n",
            "dense_17 (Dense)             (None, 32, 32, 32)        64        \n",
            "_________________________________________________________________\n",
            "flatten_3 (Flatten)          (None, 32768)             0         \n",
            "_________________________________________________________________\n",
            "dense_18 (Dense)             (None, 10)                327690    \n",
            "=================================================================\n",
            "Total params: 327,754\n",
            "Trainable params: 327,754\n",
            "Non-trainable params: 0\n",
            "_________________________________________________________________\n",
            "None\n"
          ],
          "name": "stdout"
        }
      ]
    },
    {
      "cell_type": "code",
      "metadata": {
        "id": "mVDEeZ8IAUzj",
        "colab_type": "code",
        "colab": {
          "base_uri": "https://localhost:8080/",
          "height": 390
        },
        "outputId": "723024b0-0665-4303-b585-252b673bb403"
      },
      "source": [
        "res=model1.fit_generator(\n",
        "\t\ttrainGenerator,\n",
        "\t\tepochs = 10,\n",
        "\t\tvalidation_data = validation_generator,\n",
        "\t\tvalidation_steps = 432\n",
        "\t\t)"
      ],
      "execution_count": 40,
      "outputs": [
        {
          "output_type": "stream",
          "text": [
            "Epoch 1/10\n",
            "16/16 [==============================] - ETA: 0s - loss: 1.3814 - accuracy: 0.7020WARNING:tensorflow:Your input ran out of data; interrupting training. Make sure that your dataset or generator can generate at least `steps_per_epoch * epochs` batches (in this case, 432 batches). You may need to use the repeat() function when building your dataset.\n",
            "16/16 [==============================] - 188s 12s/step - loss: 1.3814 - accuracy: 0.7020 - val_loss: 0.7353 - val_accuracy: 0.8667\n",
            "Epoch 2/10\n",
            "16/16 [==============================] - 1s 53ms/step - loss: 0.9123 - accuracy: 0.7860\n",
            "Epoch 3/10\n",
            "16/16 [==============================] - 1s 52ms/step - loss: 0.6454 - accuracy: 0.8300\n",
            "Epoch 4/10\n",
            "16/16 [==============================] - 1s 55ms/step - loss: 0.5591 - accuracy: 0.8440\n",
            "Epoch 5/10\n",
            "16/16 [==============================] - 1s 50ms/step - loss: 0.5059 - accuracy: 0.8540\n",
            "Epoch 6/10\n",
            "16/16 [==============================] - 1s 51ms/step - loss: 0.4314 - accuracy: 0.9000\n",
            "Epoch 7/10\n",
            "16/16 [==============================] - 1s 55ms/step - loss: 0.4543 - accuracy: 0.8740\n",
            "Epoch 8/10\n",
            "16/16 [==============================] - 1s 51ms/step - loss: 0.4270 - accuracy: 0.8600\n",
            "Epoch 9/10\n",
            "16/16 [==============================] - 1s 52ms/step - loss: 0.4269 - accuracy: 0.8880\n",
            "Epoch 10/10\n",
            "16/16 [==============================] - 1s 52ms/step - loss: 0.4115 - accuracy: 0.8920\n"
          ],
          "name": "stdout"
        }
      ]
    },
    {
      "cell_type": "code",
      "metadata": {
        "id": "XGwPaeMdCEIt",
        "colab_type": "code",
        "colab": {}
      },
      "source": [
        "%matplotlib inline\n",
        "accu=res.history['accuracy']\n",
        "val_acc=res.history['val_accuracy']\n",
        "loss=res.history['loss']\n",
        "val_loss=res.history['val_loss']\n",
        "\n",
        "epochs=range(len(accu))"
      ],
      "execution_count": 41,
      "outputs": []
    },
    {
      "cell_type": "code",
      "metadata": {
        "id": "IY7xVC_tMOqe",
        "colab_type": "code",
        "colab": {
          "base_uri": "https://localhost:8080/",
          "height": 298
        },
        "outputId": "eaf0e5ca-e7a0-4dae-e23c-d45b675cda7c"
      },
      "source": [
        "plt.plot(epochs,accu,'r',label='Training Accuracy')\n",
        "plt.plot(epochs,val_acc*10,'g',label='Testing Accuracy')\n",
        "plt.legend()\n",
        "plt.figure()"
      ],
      "execution_count": 52,
      "outputs": [
        {
          "output_type": "execute_result",
          "data": {
            "text/plain": [
              "<Figure size 432x288 with 0 Axes>"
            ]
          },
          "metadata": {
            "tags": []
          },
          "execution_count": 52
        },
        {
          "output_type": "display_data",
          "data": {
            "image/png": "[encoded data removed]",
            "text/plain": [
              "<Figure size 432x288 with 1 Axes>"
            ]
          },
          "metadata": {
            "tags": [],
            "needs_background": "light"
          }
        },
        {
          "output_type": "display_data",
          "data": {
            "text/plain": [
              "<Figure size 432x288 with 0 Axes>"
            ]
          },
          "metadata": {
            "tags": []
          }
        }
      ]
    },
    {
      "cell_type": "code",
      "metadata": {
        "id": "saDpPcFMMTK5",
        "colab_type": "code",
        "colab": {
          "base_uri": "https://localhost:8080/",
          "height": 265
        },
        "outputId": "6cf6e413-ca77-4916-95bd-49db158f1ada"
      },
      "source": [
        "plt.plot(epochs,loss,'r',label='Training Loss')\n",
        "plt.plot(epochs,val_loss*10,'g',label='Testing Loss')\n",
        "plt.legend()\n",
        "plt.show()"
      ],
      "execution_count": 53,
      "outputs": [
        {
          "output_type": "display_data",
          "data": {
            "image/png": "[encoded data removed]",
            "text/plain": [
              "<Figure size 432x288 with 1 Axes>"
            ]
          },
          "metadata": {
            "tags": [],
            "needs_background": "light"
          }
        }
      ]
    },
    {
      "cell_type": "code",
      "metadata": {
        "id": "PeNy2UidMePp",
        "colab_type": "code",
        "colab": {}
      },
      "source": [
        ""
      ],
      "execution_count": 54,
      "outputs": []
    },
    {
      "cell_type": "code",
      "metadata": {
        "id": "9zhTRm6zPGKY",
        "colab_type": "code",
        "colab": {
          "base_uri": "https://localhost:8080/",
          "height": 269
        },
        "outputId": "c563745e-8ffa-4e8f-a57b-c6811db90925"
      },
      "source": [
        "model2=Sequential()\n",
        "#Single Dense Layer with 8 nodes in it\n",
        "\n",
        "model2.add(Dense(8,activation='relu',input_shape=(32,32,1)))\n",
        "\n",
        "#Output Layer\n",
        "model2.add(Flatten())\n",
        "model2.add(Dense(10,activation='softmax'))\n",
        "\n",
        "model2.compile(optimizer = \"adam\",\n",
        "\t\tloss = \"categorical_crossentropy\",\n",
        "\t\tmetrics = [\"accuracy\"])\n",
        "\t\t\n",
        "print(model2.summary())"
      ],
      "execution_count": 55,
      "outputs": [
        {
          "output_type": "stream",
          "text": [
            "Model: \"sequential_10\"\n",
            "_________________________________________________________________\n",
            "Layer (type)                 Output Shape              Param #   \n",
            "=================================================================\n",
            "dense_19 (Dense)             (None, 32, 32, 8)         16        \n",
            "_________________________________________________________________\n",
            "flatten_4 (Flatten)          (None, 8192)              0         \n",
            "_________________________________________________________________\n",
            "dense_20 (Dense)             (None, 10)                81930     \n",
            "=================================================================\n",
            "Total params: 81,946\n",
            "Trainable params: 81,946\n",
            "Non-trainable params: 0\n",
            "_________________________________________________________________\n",
            "None\n"
          ],
          "name": "stdout"
        }
      ]
    },
    {
      "cell_type": "code",
      "metadata": {
        "id": "dAZ0ziY0PTL7",
        "colab_type": "code",
        "colab": {
          "base_uri": "https://localhost:8080/",
          "height": 390
        },
        "outputId": "bacd5267-7ac9-4b36-f548-bb9129f057b4"
      },
      "source": [
        "res1=model2.fit_generator(\n",
        "\t\ttrainGenerator,\n",
        "\t\tepochs = 10,\n",
        "\t\tvalidation_data = validation_generator,\n",
        "\t\tvalidation_steps = 432\n",
        "\t\t)"
      ],
      "execution_count": 59,
      "outputs": [
        {
          "output_type": "stream",
          "text": [
            "Epoch 1/10\n",
            "15/16 [===========================>..] - ETA: 0s - loss: 0.3078 - accuracy: 0.9188WARNING:tensorflow:Your input ran out of data; interrupting training. Make sure that your dataset or generator can generate at least `steps_per_epoch * epochs` batches (in this case, 432 batches). You may need to use the repeat() function when building your dataset.\n",
            "16/16 [==============================] - 1s 59ms/step - loss: 0.3091 - accuracy: 0.9200 - val_loss: 0.1494 - val_accuracy: 0.9583\n",
            "Epoch 2/10\n",
            "16/16 [==============================] - 1s 47ms/step - loss: 0.3290 - accuracy: 0.9080\n",
            "Epoch 3/10\n",
            "16/16 [==============================] - 1s 49ms/step - loss: 0.2600 - accuracy: 0.9120\n",
            "Epoch 4/10\n",
            "16/16 [==============================] - 1s 48ms/step - loss: 0.2708 - accuracy: 0.9280\n",
            "Epoch 5/10\n",
            "16/16 [==============================] - 1s 46ms/step - loss: 0.2654 - accuracy: 0.9240\n",
            "Epoch 6/10\n",
            "16/16 [==============================] - 1s 47ms/step - loss: 0.3262 - accuracy: 0.9060\n",
            "Epoch 7/10\n",
            "16/16 [==============================] - 1s 49ms/step - loss: 0.2669 - accuracy: 0.9240\n",
            "Epoch 8/10\n",
            "16/16 [==============================] - 1s 48ms/step - loss: 0.3194 - accuracy: 0.9060\n",
            "Epoch 9/10\n",
            "16/16 [==============================] - 1s 47ms/step - loss: 0.2824 - accuracy: 0.9040\n",
            "Epoch 10/10\n",
            "16/16 [==============================] - 1s 47ms/step - loss: 0.2449 - accuracy: 0.9320\n"
          ],
          "name": "stdout"
        }
      ]
    },
    {
      "cell_type": "code",
      "metadata": {
        "id": "BpZptwj7QZqG",
        "colab_type": "code",
        "colab": {}
      },
      "source": [
        "%matplotlib inline\n",
        "accu=res1.history['accuracy']\n",
        "val_acc=res1.history['val_accuracy']\n",
        "loss=res1.history['loss']\n",
        "val_loss=res1.history['val_loss']\n",
        "\n",
        "epochs=range(len(accu))"
      ],
      "execution_count": 60,
      "outputs": []
    },
    {
      "cell_type": "code",
      "metadata": {
        "id": "9sUXcpKGQmOi",
        "colab_type": "code",
        "colab": {
          "base_uri": "https://localhost:8080/",
          "height": 300
        },
        "outputId": "b6072aa1-1dba-454c-b8ae-ee22e1885ad6"
      },
      "source": [
        "plt.plot(epochs,accu,'r',label='Training Accuracy')\n",
        "plt.plot(epochs,val_acc*10,'g',label='Testing Accuracy')\n",
        "plt.legend()\n",
        "plt.figure()"
      ],
      "execution_count": 61,
      "outputs": [
        {
          "output_type": "execute_result",
          "data": {
            "text/plain": [
              "<Figure size 432x288 with 0 Axes>"
            ]
          },
          "metadata": {
            "tags": []
          },
          "execution_count": 61
        },
        {
          "output_type": "display_data",
          "data": {
            "image/png": "[encoded data removed]",
            "text/plain": [
              "<Figure size 432x288 with 1 Axes>"
            ]
          },
          "metadata": {
            "tags": [],
            "needs_background": "light"
          }
        },
        {
          "output_type": "display_data",
          "data": {
            "text/plain": [
              "<Figure size 432x288 with 0 Axes>"
            ]
          },
          "metadata": {
            "tags": []
          }
        }
      ]
    },
    {
      "cell_type": "code",
      "metadata": {
        "id": "49xddY3RQw0s",
        "colab_type": "code",
        "colab": {
          "base_uri": "https://localhost:8080/",
          "height": 265
        },
        "outputId": "8a3dff10-6d02-4e75-e55e-2c78c2b76908"
      },
      "source": [
        "plt.plot(epochs,loss,'r',label='Training Loss')\n",
        "plt.plot(epochs,val_loss*10,'g',label='Testing Loss')\n",
        "plt.legend()\n",
        "plt.show()"
      ],
      "execution_count": 62,
      "outputs": [
        {
          "output_type": "display_data",
          "data": {
            "image/png": "[encoded data removed]",
            "text/plain": [
              "<Figure size 432x288 with 1 Axes>"
            ]
          },
          "metadata": {
            "tags": [],
            "needs_background": "light"
          }
        }
      ]
    },
    {
      "cell_type": "code",
      "metadata": {
        "id": "GHfbJ9ZzQ1JU",
        "colab_type": "code",
        "colab": {}
      },
      "source": [
        ""
      ],
      "execution_count": 62,
      "outputs": []
    },
    {
      "cell_type": "code",
      "metadata": {
        "id": "dKJ5tw23Q5UN",
        "colab_type": "code",
        "colab": {
          "base_uri": "https://localhost:8080/",
          "height": 269
        },
        "outputId": "1903f5c4-04dd-4fba-80f8-05c5d79c6972"
      },
      "source": [
        "model3=Sequential()\n",
        "#Single Dense Layer with 16 nodes in it\n",
        "\n",
        "model3.add(Dense(16,activation='relu',input_shape=(32,32,1)))\n",
        "\n",
        "#Output Layer\n",
        "model3.add(Flatten())\n",
        "model3.add(Dense(10,activation='softmax'))\n",
        "\n",
        "model3.compile(optimizer = \"adam\",\n",
        "\t\tloss = \"categorical_crossentropy\",\n",
        "\t\tmetrics = [\"accuracy\"])\n",
        "\t\t\n",
        "print(model3.summary())"
      ],
      "execution_count": 63,
      "outputs": [
        {
          "output_type": "stream",
          "text": [
            "Model: \"sequential_11\"\n",
            "_________________________________________________________________\n",
            "Layer (type)                 Output Shape              Param #   \n",
            "=================================================================\n",
            "dense_21 (Dense)             (None, 32, 32, 16)        32        \n",
            "_________________________________________________________________\n",
            "flatten_5 (Flatten)          (None, 16384)             0         \n",
            "_________________________________________________________________\n",
            "dense_22 (Dense)             (None, 10)                163850    \n",
            "=================================================================\n",
            "Total params: 163,882\n",
            "Trainable params: 163,882\n",
            "Non-trainable params: 0\n",
            "_________________________________________________________________\n",
            "None\n"
          ],
          "name": "stdout"
        }
      ]
    },
    {
      "cell_type": "code",
      "metadata": {
        "id": "xlRCFg-UQ_rg",
        "colab_type": "code",
        "colab": {
          "base_uri": "https://localhost:8080/",
          "height": 390
        },
        "outputId": "8c2052d9-f776-4b3b-8087-e434701d363b"
      },
      "source": [
        "res2=model3.fit_generator(\n",
        "\t\ttrainGenerator,\n",
        "\t\tepochs = 10,\n",
        "\t\tvalidation_data = validation_generator,\n",
        "\t\tvalidation_steps = 432\n",
        "\t\t)"
      ],
      "execution_count": 64,
      "outputs": [
        {
          "output_type": "stream",
          "text": [
            "Epoch 1/10\n",
            "16/16 [==============================] - ETA: 0s - loss: 1.9004 - accuracy: 0.4280WARNING:tensorflow:Your input ran out of data; interrupting training. Make sure that your dataset or generator can generate at least `steps_per_epoch * epochs` batches (in this case, 432 batches). You may need to use the repeat() function when building your dataset.\n",
            "16/16 [==============================] - 1s 69ms/step - loss: 1.9004 - accuracy: 0.4280 - val_loss: 1.2011 - val_accuracy: 0.8000\n",
            "Epoch 2/10\n",
            "16/16 [==============================] - 1s 50ms/step - loss: 1.2023 - accuracy: 0.7700\n",
            "Epoch 3/10\n",
            "16/16 [==============================] - 1s 49ms/step - loss: 0.9037 - accuracy: 0.8060\n",
            "Epoch 4/10\n",
            "16/16 [==============================] - 1s 49ms/step - loss: 0.7359 - accuracy: 0.8020\n",
            "Epoch 5/10\n",
            "16/16 [==============================] - 1s 51ms/step - loss: 0.5729 - accuracy: 0.8660\n",
            "Epoch 6/10\n",
            "16/16 [==============================] - 1s 49ms/step - loss: 0.5284 - accuracy: 0.8780\n",
            "Epoch 7/10\n",
            "16/16 [==============================] - 1s 50ms/step - loss: 0.4713 - accuracy: 0.8760\n",
            "Epoch 8/10\n",
            "16/16 [==============================] - 1s 49ms/step - loss: 0.4660 - accuracy: 0.8720\n",
            "Epoch 9/10\n",
            "16/16 [==============================] - 1s 50ms/step - loss: 0.4182 - accuracy: 0.8860\n",
            "Epoch 10/10\n",
            "16/16 [==============================] - 1s 52ms/step - loss: 0.4298 - accuracy: 0.8860\n"
          ],
          "name": "stdout"
        }
      ]
    },
    {
      "cell_type": "code",
      "metadata": {
        "id": "conH2GhiREMu",
        "colab_type": "code",
        "colab": {}
      },
      "source": [
        "%matplotlib inline\n",
        "accu=res2.history['accuracy']\n",
        "val_acc=res2.history['val_accuracy']\n",
        "loss=res2.history['loss']\n",
        "val_loss=res2.history['val_loss']\n",
        "\n",
        "epochs=range(len(accu))"
      ],
      "execution_count": 65,
      "outputs": []
    },
    {
      "cell_type": "code",
      "metadata": {
        "id": "olTMshSsRLay",
        "colab_type": "code",
        "colab": {
          "base_uri": "https://localhost:8080/",
          "height": 298
        },
        "outputId": "8dda789a-e099-4805-bffa-9f99a322a373"
      },
      "source": [
        "plt.plot(epochs,accu,'r',label='Training Accuracy')\n",
        "plt.plot(epochs,val_acc*10,'g',label='Testing Accuracy')\n",
        "plt.legend()\n",
        "plt.figure()"
      ],
      "execution_count": 66,
      "outputs": [
        {
          "output_type": "execute_result",
          "data": {
            "text/plain": [
              "<Figure size 432x288 with 0 Axes>"
            ]
          },
          "metadata": {
            "tags": []
          },
          "execution_count": 66
        },
        {
          "output_type": "display_data",
          "data": {
            "image/png": "[encoded data removed]",
            "text/plain": [
              "<Figure size 432x288 with 1 Axes>"
            ]
          },
          "metadata": {
            "tags": [],
            "needs_background": "light"
          }
        },
        {
          "output_type": "display_data",
          "data": {
            "text/plain": [
              "<Figure size 432x288 with 0 Axes>"
            ]
          },
          "metadata": {
            "tags": []
          }
        }
      ]
    },
    {
      "cell_type": "code",
      "metadata": {
        "id": "iZ8BMJNfRNzc",
        "colab_type": "code",
        "colab": {
          "base_uri": "https://localhost:8080/",
          "height": 265
        },
        "outputId": "0d11e061-df5b-429e-83cb-367048edc6df"
      },
      "source": [
        "plt.plot(epochs,loss,'r',label='Training Loss')\n",
        "plt.plot(epochs,val_loss*10,'g',label='Testing Loss')\n",
        "plt.legend()\n",
        "plt.show()"
      ],
      "execution_count": 67,
      "outputs": [
        {
          "output_type": "display_data",
          "data": {
            "image/png": "[encoded data removed]",
            "text/plain": [
              "<Figure size 432x288 with 1 Axes>"
            ]
          },
          "metadata": {
            "tags": [],
            "needs_background": "light"
          }
        }
      ]
    },
    {
      "cell_type": "code",
      "metadata": {
        "id": "oLYqlCaZRQyN",
        "colab_type": "code",
        "colab": {}
      },
      "source": [
        ""
      ],
      "execution_count": null,
      "outputs": []
    },
    {
      "cell_type": "code",
      "metadata": {
        "id": "fxu1KeKrRYcX",
        "colab_type": "code",
        "colab": {
          "base_uri": "https://localhost:8080/",
          "height": 269
        },
        "outputId": "fcea6e05-ebee-41a8-ab5e-5e33c8b1bf43"
      },
      "source": [
        "model4=Sequential()\n",
        "#Single Dense Layer with 1028 nodes in it\n",
        "\n",
        "model4.add(Dense(1028,activation='relu',input_shape=(32,32,1)))\n",
        "\n",
        "#Output Layer\n",
        "model4.add(Flatten())\n",
        "model4.add(Dense(10,activation='softmax'))\n",
        "\n",
        "model4.compile(optimizer = \"adam\",\n",
        "\t\tloss = \"categorical_crossentropy\",\n",
        "\t\tmetrics = [\"accuracy\"])\n",
        "\t\t\n",
        "print(model4.summary())"
      ],
      "execution_count": 68,
      "outputs": [
        {
          "output_type": "stream",
          "text": [
            "Model: \"sequential_12\"\n",
            "_________________________________________________________________\n",
            "Layer (type)                 Output Shape              Param #   \n",
            "=================================================================\n",
            "dense_23 (Dense)             (None, 32, 32, 1028)      2056      \n",
            "_________________________________________________________________\n",
            "flatten_6 (Flatten)          (None, 1052672)           0         \n",
            "_________________________________________________________________\n",
            "dense_24 (Dense)             (None, 10)                10526730  \n",
            "=================================================================\n",
            "Total params: 10,528,786\n",
            "Trainable params: 10,528,786\n",
            "Non-trainable params: 0\n",
            "_________________________________________________________________\n",
            "None\n"
          ],
          "name": "stdout"
        }
      ]
    },
    {
      "cell_type": "code",
      "metadata": {
        "id": "A5gBkk7oRdav",
        "colab_type": "code",
        "colab": {
          "base_uri": "https://localhost:8080/",
          "height": 390
        },
        "outputId": "648bad82-bdba-4fc7-a16b-3845ce1a73fd"
      },
      "source": [
        "res2=model4.fit_generator(\n",
        "\t\ttrainGenerator,\n",
        "\t\tepochs = 10,\n",
        "\t\tvalidation_data = validation_generator,\n",
        "\t\tvalidation_steps = 432\n",
        "\t\t)"
      ],
      "execution_count": 69,
      "outputs": [
        {
          "output_type": "stream",
          "text": [
            "Epoch 1/10\n",
            "16/16 [==============================] - ETA: 0s - loss: 1.1420 - accuracy: 0.6260WARNING:tensorflow:Your input ran out of data; interrupting training. Make sure that your dataset or generator can generate at least `steps_per_epoch * epochs` batches (in this case, 432 batches). You may need to use the repeat() function when building your dataset.\n",
            "16/16 [==============================] - 5s 338ms/step - loss: 1.1420 - accuracy: 0.6260 - val_loss: 0.4027 - val_accuracy: 0.8667\n",
            "Epoch 2/10\n",
            "16/16 [==============================] - 5s 294ms/step - loss: 0.5436 - accuracy: 0.8280\n",
            "Epoch 3/10\n",
            "16/16 [==============================] - 5s 300ms/step - loss: 0.4936 - accuracy: 0.8360\n",
            "Epoch 4/10\n",
            "16/16 [==============================] - 5s 295ms/step - loss: 0.5260 - accuracy: 0.8480\n",
            "Epoch 5/10\n",
            "16/16 [==============================] - 5s 295ms/step - loss: 0.4198 - accuracy: 0.8700\n",
            "Epoch 6/10\n",
            "16/16 [==============================] - 5s 296ms/step - loss: 0.3505 - accuracy: 0.8940\n",
            "Epoch 7/10\n",
            "16/16 [==============================] - 5s 293ms/step - loss: 0.3894 - accuracy: 0.8880\n",
            "Epoch 8/10\n",
            "16/16 [==============================] - 5s 291ms/step - loss: 0.3846 - accuracy: 0.8780\n",
            "Epoch 9/10\n",
            "16/16 [==============================] - 5s 297ms/step - loss: 0.4106 - accuracy: 0.8780\n",
            "Epoch 10/10\n",
            "16/16 [==============================] - 5s 296ms/step - loss: 0.3819 - accuracy: 0.8920\n"
          ],
          "name": "stdout"
        }
      ]
    },
    {
      "cell_type": "code",
      "metadata": {
        "id": "dzs4bXjPRjsi",
        "colab_type": "code",
        "colab": {}
      },
      "source": [
        "%matplotlib inline\n",
        "accu=res2.history['accuracy']\n",
        "val_acc=res2.history['val_accuracy']\n",
        "loss=res2.history['loss']\n",
        "val_loss=res2.history['val_loss']\n",
        "\n",
        "epochs=range(len(accu))"
      ],
      "execution_count": 70,
      "outputs": []
    },
    {
      "cell_type": "code",
      "metadata": {
        "id": "inwo988FR0H-",
        "colab_type": "code",
        "colab": {
          "base_uri": "https://localhost:8080/",
          "height": 298
        },
        "outputId": "72dac0b1-f30b-4cf4-fca2-c77aff7ad6b7"
      },
      "source": [
        "plt.plot(epochs,accu,'r',label='Training Accuracy')\n",
        "plt.plot(epochs,val_acc*10,'g',label='Testing Accuracy')\n",
        "plt.legend()\n",
        "plt.figure()"
      ],
      "execution_count": 71,
      "outputs": [
        {
          "output_type": "execute_result",
          "data": {
            "text/plain": [
              "<Figure size 432x288 with 0 Axes>"
            ]
          },
          "metadata": {
            "tags": []
          },
          "execution_count": 71
        },
        {
          "output_type": "display_data",
          "data": {
            "image/png": "[encoded data removed]",
            "text/plain": [
              "<Figure size 432x288 with 1 Axes>"
            ]
          },
          "metadata": {
            "tags": [],
            "needs_background": "light"
          }
        },
        {
          "output_type": "display_data",
          "data": {
            "text/plain": [
              "<Figure size 432x288 with 0 Axes>"
            ]
          },
          "metadata": {
            "tags": []
          }
        }
      ]
    },
    {
      "cell_type": "code",
      "metadata": {
        "id": "x3c-_CgzR2Xe",
        "colab_type": "code",
        "colab": {
          "base_uri": "https://localhost:8080/",
          "height": 265
        },
        "outputId": "2edd7d69-06af-4ea4-f648-3b9f4967a8ef"
      },
      "source": [
        "plt.plot(epochs,loss,'r',label='Training Loss')\n",
        "plt.plot(epochs,val_loss*10,'g',label='Testing Loss')\n",
        "plt.legend()\n",
        "plt.show()"
      ],
      "execution_count": 72,
      "outputs": [
        {
          "output_type": "display_data",
          "data": {
            "image/png": "[encoded data removed]",
            "text/plain": [
              "<Figure size 432x288 with 1 Axes>"
            ]
          },
          "metadata": {
            "tags": [],
            "needs_background": "light"
          }
        }
      ]
    },
    {
      "cell_type": "code",
      "metadata": {
        "id": "WyUfSji1R5mh",
        "colab_type": "code",
        "colab": {}
      },
      "source": [
        ""
      ],
      "execution_count": null,
      "outputs": []
    },
    {
      "cell_type": "code",
      "metadata": {
        "id": "CwtEAAgUR_em",
        "colab_type": "code",
        "colab": {
          "base_uri": "https://localhost:8080/",
          "height": 403
        },
        "outputId": "c21a741a-880d-4f6b-a149-16524509b1d1"
      },
      "source": [
        "model5=Sequential()\n",
        "#5 Dense Layer with 32 nodes in it\n",
        "\n",
        "model5.add(Dense(32,activation='relu',input_shape=(32,32,1)))\n",
        "model5.add(Dense(32,activation='relu'))\n",
        "model5.add(Dense(32,activation='relu'))\n",
        "model5.add(Dense(32,activation='relu'))\n",
        "model5.add(Dense(32,activation='relu'))\n",
        "\n",
        "#Output Layer\n",
        "model5.add(Flatten())\n",
        "model5.add(Dense(10,activation='softmax'))\n",
        "\n",
        "model5.compile(optimizer = \"adam\",\n",
        "\t\tloss = \"categorical_crossentropy\",\n",
        "\t\tmetrics = [\"accuracy\"])\n",
        "\t\t\n",
        "print(model5.summary())"
      ],
      "execution_count": 73,
      "outputs": [
        {
          "output_type": "stream",
          "text": [
            "Model: \"sequential_13\"\n",
            "_________________________________________________________________\n",
            "Layer (type)                 Output Shape              Param #   \n",
            "=================================================================\n",
            "dense_25 (Dense)             (None, 32, 32, 32)        64        \n",
            "_________________________________________________________________\n",
            "dense_26 (Dense)             (None, 32, 32, 32)        1056      \n",
            "_________________________________________________________________\n",
            "dense_27 (Dense)             (None, 32, 32, 32)        1056      \n",
            "_________________________________________________________________\n",
            "dense_28 (Dense)             (None, 32, 32, 32)        1056      \n",
            "_________________________________________________________________\n",
            "dense_29 (Dense)             (None, 32, 32, 32)        1056      \n",
            "_________________________________________________________________\n",
            "flatten_7 (Flatten)          (None, 32768)             0         \n",
            "_________________________________________________________________\n",
            "dense_30 (Dense)             (None, 10)                327690    \n",
            "=================================================================\n",
            "Total params: 331,978\n",
            "Trainable params: 331,978\n",
            "Non-trainable params: 0\n",
            "_________________________________________________________________\n",
            "None\n"
          ],
          "name": "stdout"
        }
      ]
    },
    {
      "cell_type": "code",
      "metadata": {
        "id": "ViME3C6-SQfC",
        "colab_type": "code",
        "colab": {
          "base_uri": "https://localhost:8080/",
          "height": 390
        },
        "outputId": "04503fbc-47e6-4c54-fc68-d5be9bdd8a23"
      },
      "source": [
        "res3=model5.fit_generator(\n",
        "\t\ttrainGenerator,\n",
        "\t\tepochs = 10,\n",
        "\t\tvalidation_data = validation_generator,\n",
        "\t\tvalidation_steps = 432\n",
        "\t\t)"
      ],
      "execution_count": 74,
      "outputs": [
        {
          "output_type": "stream",
          "text": [
            "Epoch 1/10\n",
            "16/16 [==============================] - ETA: 0s - loss: 1.9820 - accuracy: 0.4560WARNING:tensorflow:Your input ran out of data; interrupting training. Make sure that your dataset or generator can generate at least `steps_per_epoch * epochs` batches (in this case, 432 batches). You may need to use the repeat() function when building your dataset.\n",
            "16/16 [==============================] - 2s 98ms/step - loss: 1.9820 - accuracy: 0.4560 - val_loss: 1.1290 - val_accuracy: 0.8250\n",
            "Epoch 2/10\n",
            "16/16 [==============================] - 1s 73ms/step - loss: 0.8981 - accuracy: 0.7680\n",
            "Epoch 3/10\n",
            "16/16 [==============================] - 1s 74ms/step - loss: 0.5302 - accuracy: 0.8240\n",
            "Epoch 4/10\n",
            "16/16 [==============================] - 1s 71ms/step - loss: 0.5196 - accuracy: 0.8280\n",
            "Epoch 5/10\n",
            "16/16 [==============================] - 1s 71ms/step - loss: 0.3751 - accuracy: 0.8780\n",
            "Epoch 6/10\n",
            "16/16 [==============================] - 1s 72ms/step - loss: 0.3185 - accuracy: 0.9020\n",
            "Epoch 7/10\n",
            "16/16 [==============================] - 1s 73ms/step - loss: 0.3626 - accuracy: 0.8880\n",
            "Epoch 8/10\n",
            "16/16 [==============================] - 1s 72ms/step - loss: 0.3184 - accuracy: 0.9000\n",
            "Epoch 9/10\n",
            "16/16 [==============================] - 1s 71ms/step - loss: 0.3409 - accuracy: 0.8900\n",
            "Epoch 10/10\n",
            "16/16 [==============================] - 1s 71ms/step - loss: 0.3295 - accuracy: 0.9240\n"
          ],
          "name": "stdout"
        }
      ]
    },
    {
      "cell_type": "code",
      "metadata": {
        "id": "da9llCBbSYvc",
        "colab_type": "code",
        "colab": {}
      },
      "source": [
        "%matplotlib inline\n",
        "accu=res2.history['accuracy']\n",
        "val_acc=res2.history['val_accuracy']\n",
        "loss=res2.history['loss']\n",
        "val_loss=res2.history['val_loss']\n",
        "\n",
        "epochs=range(len(accu))"
      ],
      "execution_count": 75,
      "outputs": []
    },
    {
      "cell_type": "code",
      "metadata": {
        "id": "SQSoA_Z4SgQw",
        "colab_type": "code",
        "colab": {
          "base_uri": "https://localhost:8080/",
          "height": 298
        },
        "outputId": "04b3f1d7-b820-4756-8c2a-631596b3acd1"
      },
      "source": [
        "plt.plot(epochs,accu,'r',label='Training Accuracy')\n",
        "plt.plot(epochs,val_acc*10,'g',label='Testing Accuracy')\n",
        "plt.legend()\n",
        "plt.figure()"
      ],
      "execution_count": 76,
      "outputs": [
        {
          "output_type": "execute_result",
          "data": {
            "text/plain": [
              "<Figure size 432x288 with 0 Axes>"
            ]
          },
          "metadata": {
            "tags": []
          },
          "execution_count": 76
        },
        {
          "output_type": "display_data",
          "data": {
            "image/png": "[encoded data removed]",
            "text/plain": [
              "<Figure size 432x288 with 1 Axes>"
            ]
          },
          "metadata": {
            "tags": [],
            "needs_background": "light"
          }
        },
        {
          "output_type": "display_data",
          "data": {
            "text/plain": [
              "<Figure size 432x288 with 0 Axes>"
            ]
          },
          "metadata": {
            "tags": []
          }
        }
      ]
    },
    {
      "cell_type": "code",
      "metadata": {
        "id": "2U-1ZErCSinS",
        "colab_type": "code",
        "colab": {
          "base_uri": "https://localhost:8080/",
          "height": 265
        },
        "outputId": "87a060f7-c99a-4b24-af82-d586557ca562"
      },
      "source": [
        "plt.plot(epochs,loss,'r',label='Training Loss')\n",
        "plt.plot(epochs,val_loss*10,'g',label='Testing Loss')\n",
        "plt.legend()\n",
        "plt.show()"
      ],
      "execution_count": 77,
      "outputs": [
        {
          "output_type": "display_data",
          "data": {
            "image/png": "[encoded data removed]",
            "text/plain": [
              "<Figure size 432x288 with 1 Axes>"
            ]
          },
          "metadata": {
            "tags": [],
            "needs_background": "light"
          }
        }
      ]
    },
    {
      "cell_type": "code",
      "metadata": {
        "id": "hT-Qg0H-Skwd",
        "colab_type": "code",
        "colab": {}
      },
      "source": [
        ""
      ],
      "execution_count": null,
      "outputs": []
    }
  ]
}